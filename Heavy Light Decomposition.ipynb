{
 "cells": [
  {
   "cell_type": "markdown",
   "metadata": {},
   "source": [
    "# Heavy Light Decomposition\n",
    "\n",
    "## 선행 개념\n",
    "    * Binary Tree\n",
    "    * Segment Tree\n",
    "   \n",
    "    \n"
   ]
  },
  {
   "cell_type": "markdown",
   "metadata": {},
   "source": [
    "###  Binary Tree"
   ]
  },
  {
   "cell_type": "code",
   "execution_count": 20,
   "metadata": {},
   "outputs": [
    {
     "name": "stdout",
     "output_type": "stream",
     "text": [
      "  5 \n",
      " 4 5 \n",
      "1 1 5 "
     ]
    }
   ],
   "source": [
    "from typing import List\n",
    "from collections import deque\n",
    "### List To Tree\n",
    "class TreeNode:\n",
    "    def __init__(self, val=0, left=None, right=None):\n",
    "        self.val = val\n",
    "        self.left = left\n",
    "        self.right = right\n",
    "        \n",
    "\n",
    "def list_to_tree(li:List[int])->TreeNode:\n",
    "    \n",
    "    def make_tree(idx: int)-> TreeNode:\n",
    "        \n",
    "        if idx < len(li):\n",
    "            node = TreeNode(li[idx])\n",
    "            node.left = make_tree(2*idx +1)\n",
    "            node.right = make_tree(2*idx +2)\n",
    "            return node\n",
    "        \n",
    "    root = make_tree(0)\n",
    "    return root\n",
    "\n",
    "\n",
    "def print_tree(root:TreeNode):\n",
    "    queue = deque()\n",
    "    queue.append(root)\n",
    "    max_height = 2\n",
    "    height = 0\n",
    "    cur = pow(2,height)\n",
    "    count = 0\n",
    "    print(\" \"*(max_height-height),end=\"\")\n",
    "    while queue:\n",
    "        node = queue.pop()\n",
    "        count += 1\n",
    "        print(node.val,end=\" \")\n",
    "        if count == cur:\n",
    "            height += 1\n",
    "            cur = cur + pow(2,height)\n",
    "            print()\n",
    "            print(\" \"*(max_height-height),end=\"\")\n",
    "        if node.left is not None:\n",
    "            queue.appendleft(node.left)\n",
    "        if node.right is not None:\n",
    "            queue.appendleft(node.right)\n",
    "\n",
    "li = [5,4,5,1,1,5]\n",
    "\n",
    "root = list_to_tree(li)\n",
    "print_tree(root)\n",
    "\n",
    "\n"
   ]
  },
  {
   "cell_type": "code",
   "execution_count": 2,
   "metadata": {},
   "outputs": [
    {
     "data": {
      "text/plain": [
       "1"
      ]
     },
     "execution_count": 2,
     "metadata": {},
     "output_type": "execute_result"
    }
   ],
   "source": []
  },
  {
   "cell_type": "code",
   "execution_count": null,
   "metadata": {},
   "outputs": [],
   "source": []
  }
 ],
 "metadata": {
  "kernelspec": {
   "display_name": "Python 3",
   "language": "python",
   "name": "python3"
  },
  "language_info": {
   "codemirror_mode": {
    "name": "ipython",
    "version": 3
   },
   "file_extension": ".py",
   "mimetype": "text/x-python",
   "name": "python",
   "nbconvert_exporter": "python",
   "pygments_lexer": "ipython3",
   "version": "3.7.6"
  },
  "toc": {
   "base_numbering": 1,
   "nav_menu": {},
   "number_sections": true,
   "sideBar": true,
   "skip_h1_title": false,
   "title_cell": "Table of Contents",
   "title_sidebar": "Contents",
   "toc_cell": false,
   "toc_position": {},
   "toc_section_display": true,
   "toc_window_display": false
  }
 },
 "nbformat": 4,
 "nbformat_minor": 4
}
